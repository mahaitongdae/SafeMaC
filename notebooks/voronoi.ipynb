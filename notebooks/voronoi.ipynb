{
 "cells": [
  {
   "cell_type": "code",
   "execution_count": 3,
   "metadata": {
    "collapsed": true
   },
   "outputs": [
    {
     "data": {
      "text/plain": "[[0, 1, 2], [3, 4, 5]]"
     },
     "execution_count": 3,
     "metadata": {},
     "output_type": "execute_result"
    }
   ],
   "source": [
    "import networkx as nx\n",
    "G = nx.path_graph(6)\n",
    "center_nodes = {1, 3}\n",
    "cells = nx.voronoi_cells(G, center_nodes)\n",
    "partition = set(map(frozenset, cells.values()))\n",
    "sorted(map(sorted, partition))"
   ]
  },
  {
   "cell_type": "code",
   "execution_count": 4,
   "outputs": [
    {
     "data": {
      "text/plain": "<Figure size 640x480 with 1 Axes>",
      "image/png": "[encoded data removed]"
     },
     "metadata": {},
     "output_type": "display_data"
    }
   ],
   "source": [
    "nx.draw_spectral(G)"
   ],
   "metadata": {
    "collapsed": false
   }
  },
  {
   "cell_type": "code",
   "execution_count": 1,
   "outputs": [],
   "source": [
    "# The environment for this file is a ~/work/rl\n",
    "import argparse\n",
    "import errno\n",
    "import os\n",
    "import pickle\n",
    "import warnings\n",
    "\n",
    "import matplotlib.pyplot as plt\n",
    "import torch\n",
    "import yaml\n",
    "import numpy as np\n",
    "import pandas as pd\n",
    "\n",
    "from utils.environement import GridWorld\n",
    "from utils.ground_truth import GroundTruth\n",
    "from utils.helper import submodular_optimization, idxfromloc\n",
    "from utils.initializer import get_players_initialized\n",
    "import types\n",
    "import networkx as nx"
   ],
   "metadata": {
    "collapsed": false
   }
  },
  {
   "cell_type": "code",
   "execution_count": 2,
   "outputs": [],
   "source": [
    "# warnings.filterwarnings(\"ignore\")\n",
    "workspace = '/home/mht/PycharmProjects/SafeMaC'\n",
    "# parser = argparse.ArgumentParser(description=\"A foo that bars\")\n",
    "# parser.add_argument(\"--param\", default=\"GPwall_safe_base\")  # params\n",
    "# parser.add_argument(\"--env_idx\", type=int, default=100)\n",
    "# parser.add_argument(\"--generate\", type=bool, default=True)\n",
    "# parser.add_argument(\"--noise_sigma\", type=float, default=0.01)\n",
    "# parser.add_argument(\"--iter\", type=int, default=1000)\n",
    "# args = parser.parse_args()\n",
    "\n",
    "args = {'param': 'GP_voronoi_base',\n",
    "        'env_idx': 100,\n",
    "        'generate': False,\n",
    "        'noise_sigma': 0.01,\n",
    "        'iter': 1000}\n",
    "args = types.SimpleNamespace(**args)"
   ],
   "metadata": {
    "collapsed": false
   }
  },
  {
   "cell_type": "code",
   "execution_count": 3,
   "outputs": [
    {
     "name": "stdout",
     "output_type": "stream",
     "text": [
      "{'env': {'start': -2, 'step_size': 0.5, 'shape': {'x': 8, 'y': 8}, 'n_players': 3, 'Cx_lengthscale': 2, 'Cx_noise': 0.01, 'Fx_lengthscale': 0.7, 'Fx_noise': 0.01, 'Cx_beta': 1.5, 'Fx_beta': 1.5, 'generate': True, 'env_file_name': 'env_data.pkl', 'cov_module': 'Sq_exp'}, 'experiment': {'name': 'exploit', 'generate_regret_plot': True, 'folder': 'GP'}, 'agent': {'Lc': 1.5, 'explore_exploit_strategy': 1, 'Cx_lengthscale': 2, 'Cx_noise': 0.007, 'Fx_lengthscale': 0.8, 'Fx_noise': 0.01, 'Cx_beta': 1.5, 'Fx_beta': 2.0, 'mean_shift_val': 2, 'use_goose': True, 'obs_model': 'disc_center', 'cov_module': 'Sq_exp', 'recommend': 'UCB', 'Two_stage': False, 'sol_domain': 'opti', 'alpha': 0.9}, 'common': {'dim': 2, 'constraint': 0.3, 'epsilon': 0.15, 'disk_size': 1}, 'algo': {'n_CI_samples': 1, 'n_iter': 200, 'eps_density_thresh': 0.5, 'goose_steps': 150, 'use_doubling_trick': False}}\n",
      "8 64 8\n",
      "no init safe data!\n",
      "{'loc': [tensor([-1.5000,  0.5000]), tensor([-0.5000, -0.5000]), tensor([-1.5000,  1.0000])], 'idx': tensor([13, 27, 14])}\n",
      "initialized location {'loc': [tensor([-1.5000,  0.5000]), tensor([-0.5000, -0.5000]), tensor([-1.5000,  1.0000])], 'idx': tensor([13, 27, 14])}\n",
      "Calculating opt set, env sopt not available\n",
      "{0: [0]}\n",
      "Associate time: 0.0011320114135742188\n",
      "time: 0.0020291805267333984\n",
      "Calculating normalization factor\n",
      "Nodes in pessimistic graph: 1\n",
      "Nodes in optimistic graph: 64\n",
      "Nodes in pessimistic graph: 1\n",
      "Nodes in optimistic graph: 64\n",
      "Nodes in pessimistic graph: 1\n",
      "Nodes in optimistic graph: 64\n"
     ]
    },
    {
     "name": "stderr",
     "output_type": "stream",
     "text": [
      "/home/mht/anaconda3/envs/gpyt/lib/python3.8/site-packages/botorch/models/gpytorch.py:119: UserWarning: The model inputs are of type torch.float32. It is strongly recommended to use double precision in BoTorch, as this improves both precision and stability and can help avoid numerical errors. See https://github.com/pytorch/botorch/discussions/1444\n",
      "  warnings.warn(\n",
      "/home/mht/anaconda3/envs/gpyt/lib/python3.8/site-packages/botorch/models/utils/assorted.py:173: InputDataWarning: Input data is not contained to the unit cube. Please consider min-max scaling the input data.\n",
      "  warnings.warn(msg, InputDataWarning)\n",
      "/home/mht/anaconda3/envs/gpyt/lib/python3.8/site-packages/botorch/models/utils/assorted.py:201: InputDataWarning: Input data is not standardized. Please consider scaling the input to zero mean and unit variance.\n",
      "  warnings.warn(msg, InputDataWarning)\n"
     ]
    }
   ],
   "source": [
    "env, agent, algo = args.param.split('_')\n",
    "params = {}\n",
    "env = 'env_' + env\n",
    "agent = 'agent_' + agent\n",
    "algo = 'algo_' + algo\n",
    "# 1) Load the config file\n",
    "for param in [env, agent, algo]:\n",
    "    with open(workspace + \"/params/\" + param + \".yaml\") as file:\n",
    "        params.update(yaml.load(file, Loader=yaml.FullLoader))\n",
    "print(params)\n",
    "\n",
    "if not args.generate:\n",
    "    params[\"env\"].update({\"generate\": False})\n",
    "\n",
    "params[\"env\"].update({\"Fx_noise\" : args.noise_sigma})\n",
    "params[\"agent\"].update({\"Fx_noise\": args.noise_sigma})\n",
    "\n",
    "env_load_path = (\n",
    "    workspace\n",
    "    + \"/experiments/\"\n",
    "    + params[\"experiment\"][\"folder\"] + '_' + str(args.noise_sigma)\n",
    "    + \"/\"\n",
    "    + env + '_'\n",
    "    + str(args.env_idx)\n",
    "    + \"/\"\n",
    ")\n",
    "save_path = env_load_path + \"/\" + args.param + \"/\"\n",
    "\n",
    "if not os.path.exists(save_path):\n",
    "    try:\n",
    "        os.makedirs(save_path)\n",
    "    except OSError as e:\n",
    "        if e.errno != errno.EEXIST:\n",
    "            raise\n",
    "\n",
    "# 3) Setup the environement\n",
    "env = GridWorld(\n",
    "    env_params=params[\"env\"], common_params=params[\"common\"], env_dir=env_load_path\n",
    ")\n",
    "\n",
    "grid_V = env.grid_V\n",
    "# If optimistic set is intersection of 2 common graph, then they take a joint step (solve greedy algorithm combined)\n",
    "# If pessimistic set is combined, new pessimistic set is union of sets, and agent can travel in union\n",
    "init_safe = env.get_safe_init()\n",
    "print(\"initialized location\", init_safe)\n",
    "\n",
    "# 3.1) Compute optimal location using true function to be used in regret computation\n",
    "opt = GroundTruth(env, params)\n",
    "opt.compute_optimal_location_by_expansion()\n",
    "opt.compute_normalization_factor()\n",
    "opt_coverage = opt.opt_val.item()\n",
    "\n",
    "# while running on cluster in parallel sometimes a location in not created if asked by multiple processes\n",
    "os.makedirs(save_path, exist_ok=True)\n",
    "\n",
    "# use df to store data.\n",
    "data = {\n",
    "    'current_coverage': [],\n",
    "    # 'sum_max_sigma'     :[],\n",
    "    'iter': [],\n",
    "    'instant_regret': [],\n",
    "    'regret': []\n",
    "}\n",
    "data.update({'idx_agent{}'.format(i): [] for i in range(params[\"env\"][\"n_players\"])})\n",
    "data.update({'idx_measure{}'.format(i): [] for i in range(params[\"env\"][\"n_players\"])})\n",
    "\n",
    "\n",
    "\n",
    "\n",
    "# Start from some safe initial states\n",
    "train = {}\n",
    "train[\"Cx_X\"] = init_safe[\"loc\"]\n",
    "train[\"Cx_Y\"] = env.get_multi_constraint_observation(train[\"Cx_X\"])\n",
    "train[\"Fx_X\"] = init_safe[\"loc\"]\n",
    "train[\"Fx_Y\"] = env.get_multi_density_observation(train[\"Fx_X\"])\n",
    "players = get_players_initialized(train, params, grid_V)\n",
    "\n",
    "for it, player in enumerate(players):\n",
    "    player.update_Fx_gp_with_current_data()\n",
    "    player.update_graph(init_safe[\"idx\"][it])\n",
    "    player.save_posterior_normalization_const()  # agent.posterior_normalization_const, max of 2beta*sigma.\n",
    "    player.initialize_location(init_safe[\"loc\"][it])\n",
    "    data['idx_agent{}'.format(it)].append(idxfromloc(player.grid_V, player.current_location))\n",
    "    data['idx_measure{}'.format(it)].append(idxfromloc(player.grid_V, player.current_location))\n",
    "    # haitong: will not do measurement on the initialization. Use current for in-place.\n",
    "    # measure_loc = player.get_measurement_pt_max(idxfromloc(player.grid_V, player.current_location))\n",
    "\n",
    "\n",
    "associate_dict = {}\n",
    "associate_dict[0] = []\n",
    "for idx in range(params[\"env\"][\"n_players\"]):\n",
    "    associate_dict[0].append(idx)\n",
    "\n",
    "pessi_associate_dict = {}\n",
    "pessi_associate_dict[0] = []\n",
    "for idx in range(params[\"env\"][\"n_players\"]):\n",
    "    pessi_associate_dict[0].append(idx)\n",
    "\n",
    "iter = 0\n",
    "doubling_target_iter = 0\n",
    "pt1 = None\n",
    "\n",
    "regret = 0.\n",
    "# compute coverage based on the initial location\n",
    "current_coverage = opt.compute_current_multiple_coverage(players, associate_dict)\n",
    "data.get('current_coverage').append(current_coverage)\n",
    "data.get('iter').append(0)\n",
    "data.get('instant_regret').append(opt_coverage - current_coverage)\n",
    "regret += opt_coverage - current_coverage\n",
    "data.get('regret').append(regret)"
   ],
   "metadata": {
    "collapsed": false
   }
  },
  {
   "cell_type": "code",
   "execution_count": 25,
   "outputs": [
    {
     "name": "stdout",
     "output_type": "stream",
     "text": [
      "tensor([-2.0000,  1.5000])\n",
      "tensor([-1.5000,  1.5000])\n"
     ]
    }
   ],
   "source": [
    "print(players[0].current_location)\n",
    "players[0].random_walk()\n",
    "print(players[0].current_location)"
   ],
   "metadata": {
    "collapsed": false
   }
  },
  {
   "cell_type": "code",
   "execution_count": 36,
   "outputs": [],
   "source": [
    "acq_density = players[0].Fx_model.posterior(players[0].grid_V).mvn.mean"
   ],
   "metadata": {
    "collapsed": false
   }
  },
  {
   "cell_type": "code",
   "execution_count": 40,
   "outputs": [],
   "source": [
    "idxs = [idxfromloc(p.grid_V, p.current_location) for p in players]\n",
    "graph = players[0].base_graph\n",
    "voronoi_partition = nx.voronoi_cells(graph, idxs)"
   ],
   "metadata": {
    "collapsed": false
   }
  },
  {
   "cell_type": "code",
   "execution_count": 42,
   "outputs": [],
   "source": [
    "partition_pair = np.random.choice(idxs, size=(2))\n",
    "union_partitions = set(voronoi_partition[partition_pair[0]]) | set(voronoi_partition[partition_pair[1]])\n",
    "subgraph = graph.subgraph(union_partitions)\n",
    "\n"
   ],
   "metadata": {
    "collapsed": false
   }
  },
  {
   "cell_type": "code",
   "execution_count": 50,
   "outputs": [
    {
     "name": "stdout",
     "output_type": "stream",
     "text": [
      "tensor(15.5475, grad_fn=<AddBackward0>) 13 21\n"
     ]
    }
   ],
   "source": [
    "partition_loss = 1e6\n",
    "target_a = None\n",
    "target_b = None\n",
    "for node_a in subgraph.nodes:\n",
    "    for node_b in subgraph.nodes:\n",
    "        loss = 0.\n",
    "        for node in subgraph.nodes:\n",
    "            loss += acq_density[node] * min(len(nx.shortest_path(subgraph, source=node, target=node_a)),\n",
    "                        len(nx.shortest_path(subgraph, source=node, target=node_b)))\n",
    "        if loss < partition_loss:\n",
    "            partition_loss = loss\n",
    "            target_a = node_a\n",
    "            target_b = node_b\n",
    "print(partition_loss, target_a, target_b)"
   ],
   "metadata": {
    "collapsed": false
   }
  },
  {
   "cell_type": "code",
   "execution_count": 47,
   "outputs": [
    {
     "data": {
      "text/plain": "[5, 14, 23, 31, 39, 47]"
     },
     "execution_count": 47,
     "metadata": {},
     "output_type": "execute_result"
    }
   ],
   "source": [
    "nx.shortest_path(subgraph, source=5, target=47)"
   ],
   "metadata": {
    "collapsed": false
   }
  }
 ],
 "metadata": {
  "kernelspec": {
   "display_name": "Python 3",
   "language": "python",
   "name": "python3"
  },
  "language_info": {
   "codemirror_mode": {
    "name": "ipython",
    "version": 2
   },
   "file_extension": ".py",
   "mimetype": "text/x-python",
   "name": "python",
   "nbconvert_exporter": "python",
   "pygments_lexer": "ipython2",
   "version": "2.7.6"
  }
 },
 "nbformat": 4,
 "nbformat_minor": 0
}
